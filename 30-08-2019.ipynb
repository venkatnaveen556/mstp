{
 "cells": [
  {
   "cell_type": "markdown",
   "metadata": {},
   "source": [
    "# Factorial of a number"
   ]
  },
  {
   "cell_type": "code",
   "execution_count": 10,
   "metadata": {},
   "outputs": [
    {
     "name": "stdout",
     "output_type": "stream",
     "text": [
      "6\n",
      "720\n"
     ]
    }
   ],
   "source": [
    "def fact(n):\n",
    "    if(n>=1):\n",
    "        return n*fact(n-1)\n",
    "    else:\n",
    "        return 1\n",
    "\n",
    "n=int(input())\n",
    "print(fact(n))\n"
   ]
  },
  {
   "cell_type": "markdown",
   "metadata": {},
   "source": [
    "# Divisible by 6 and not divisible by 100"
   ]
  },
  {
   "cell_type": "code",
   "execution_count": 15,
   "metadata": {},
   "outputs": [
    {
     "name": "stdout",
     "output_type": "stream",
     "text": [
      "1\n",
      "2\n"
     ]
    }
   ],
   "source": [
    "def func(l,h):\n",
    "    for i in range(l,h):\n",
    "        if(i%6==0 and 100%i!=0):\n",
    "            print(i)\n",
    "        i=i+1\n",
    "    \n",
    "    \n",
    "l=int(input())\n",
    "h=int(input())\n",
    "func(l,h)"
   ]
  },
  {
   "cell_type": "markdown",
   "metadata": {},
   "source": [
    "# Average of first n prime numbers"
   ]
  },
  {
   "cell_type": "code",
   "execution_count": 29,
   "metadata": {
    "scrolled": true
   },
   "outputs": [
    {
     "name": "stdout",
     "output_type": "stream",
     "text": [
      "20\n",
      "2\n"
     ]
    }
   ],
   "source": [
    "def funct(n):\n",
    "        count=0\n",
    "        i=2\n",
    "        j=2\n",
    "        for i in range(2,n+1):\n",
    "            for j in range(2,i):\n",
    "                if(i%j==0):\n",
    "                    break\n",
    "            if(i==j):\n",
    "                print(i)\n",
    "        \n",
    "n=int(input())\n",
    "funct(n)"
   ]
  },
  {
   "cell_type": "markdown",
   "metadata": {},
   "source": [
    "# Cubes of even numbers in given range"
   ]
  },
  {
   "cell_type": "code",
   "execution_count": 38,
   "metadata": {},
   "outputs": [
    {
     "name": "stdout",
     "output_type": "stream",
     "text": [
      "1\n",
      "20\n",
      "2420.0\n"
     ]
    }
   ],
   "source": [
    "def function(l,h):\n",
    "    sum=0\n",
    "    c=0\n",
    "    for i in range(l,h+1):\n",
    "        if(i%2==0):\n",
    "            sum=sum+(i*i*i)\n",
    "            c=c+1\n",
    "    print(sum/c)   \n",
    "    \n",
    "l=int(input())\n",
    "h=int(input())\n",
    "function(l,h)"
   ]
  },
  {
   "cell_type": "code",
   "execution_count": 41,
   "metadata": {},
   "outputs": [
    {
     "name": "stdout",
     "output_type": "stream",
     "text": [
      " Name : ganesh123\n",
      "ganesh123     9\n",
      "e\n"
     ]
    }
   ],
   "source": [
    "n=input(\" Name : \")\n",
    "print(n,\"   \",len(n))\n",
    "print(n[3])"
   ]
  },
  {
   "cell_type": "code",
   "execution_count": null,
   "metadata": {},
   "outputs": [],
   "source": []
  }
 ],
 "metadata": {
  "kernelspec": {
   "display_name": "Python 3",
   "language": "python",
   "name": "python3"
  },
  "language_info": {
   "codemirror_mode": {
    "name": "ipython",
    "version": 3
   },
   "file_extension": ".py",
   "mimetype": "text/x-python",
   "name": "python",
   "nbconvert_exporter": "python",
   "pygments_lexer": "ipython3",
   "version": "3.7.3"
  }
 },
 "nbformat": 4,
 "nbformat_minor": 2
}
