{
 "cells": [
  {
   "cell_type": "code",
   "execution_count": 80,
   "metadata": {},
   "outputs": [],
   "source": [
    "fh=open('notes.txt','r')\n",
    "fh1=open('report.txt','w')\n",
    "count=0\n",
    "for line in fh:\n",
    "    count+=1\n",
    "    if(count==1):\n",
    "        fh1.write(line.strip()+'\\ttotal\\n')\n",
    "    else:\n",
    "        marks_list=line.strip().split()[2:]\n",
    "        newmarks=[]\n",
    "        for each in marks_list:\n",
    "            newmarks.append(int(each))\n",
    "        total_marks=sum(newmarks)\n",
    "        fh1.write(line.strip()+'\\t'+str(total_marks)+'\\n')\n",
    "fh.close()\n",
    "fh1.close()"
   ]
  },
  {
   "cell_type": "code",
   "execution_count": 88,
   "metadata": {},
   "outputs": [],
   "source": [
    "fh=open('notes.txt','r')\n",
    "fh1=open('report.txt','w')\n",
    "count=0\n",
    "rows=[]\n",
    "for line in fh:\n",
    "    count+=1\n",
    "    if(count==1):\n",
    "        fh1.write(line.strip()+'\\ttotal\\n')\n",
    "    else:\n",
    "        marks_list=line.strip().split()[2:]\n",
    "        newmarks=[]\n",
    "        for each in marks_list:\n",
    "            newmarks.append(int(each))\n",
    "        total_marks=sum(newmarks)\n",
    "        row=line.strip()+'\\t'+str(total_marks)+'\\n'\n",
    "        rows.append([total_marks,row])\n",
    "rows.sort(reverse=True)\n",
    "for row in rows:\n",
    "    fh1.write(row[1])\n",
    "fh.close()\n",
    "fh1.close()"
   ]
  },
  {
   "cell_type": "code",
   "execution_count": null,
   "metadata": {},
   "outputs": [],
   "source": []
  },
  {
   "cell_type": "code",
   "execution_count": null,
   "metadata": {},
   "outputs": [],
   "source": []
  }
 ],
 "metadata": {
  "kernelspec": {
   "display_name": "Python 3",
   "language": "python",
   "name": "python3"
  },
  "language_info": {
   "codemirror_mode": {
    "name": "ipython",
    "version": 3
   },
   "file_extension": ".py",
   "mimetype": "text/x-python",
   "name": "python",
   "nbconvert_exporter": "python",
   "pygments_lexer": "ipython3",
   "version": "3.7.3"
  }
 },
 "nbformat": 4,
 "nbformat_minor": 2
}
