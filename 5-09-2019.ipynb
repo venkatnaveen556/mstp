{
 "cells": [
  {
   "cell_type": "markdown",
   "metadata": {},
   "source": [
    "## regular expressions"
   ]
  },
  {
   "cell_type": "code",
   "execution_count": 2,
   "metadata": {},
   "outputs": [
    {
     "name": "stdout",
     "output_type": "stream",
     "text": [
      "a+\n",
      "saai\n"
     ]
    },
    {
     "data": {
      "text/plain": [
       "True"
      ]
     },
     "execution_count": 2,
     "metadata": {},
     "output_type": "execute_result"
    }
   ],
   "source": [
    "import re\n",
    "pattern=input()\n",
    "data=input()\n",
    "def pat(n1,n2):\n",
    "    if(re.search(n1,n2)):\n",
    "        return True\n",
    "    else:\n",
    "        return False\n",
    "pat(pattern,data)"
   ]
  },
  {
   "cell_type": "code",
   "execution_count": 6,
   "metadata": {},
   "outputs": [
    {
     "name": "stdout",
     "output_type": "stream",
     "text": [
      "9603852332\n"
     ]
    },
    {
     "data": {
      "text/plain": [
       "True"
      ]
     },
     "execution_count": 6,
     "metadata": {},
     "output_type": "execute_result"
    }
   ],
   "source": [
    "import re\n",
    "number=input()\n",
    "def pat1(n1):\n",
    "    if(re.search('^[6-9]\\d{9}$',n1)):\n",
    "        return True\n",
    "    else:\n",
    "        return False\n",
    "pat1(number)"
   ]
  },
  {
   "cell_type": "code",
   "execution_count": 7,
   "metadata": {},
   "outputs": [
    {
     "name": "stdout",
     "output_type": "stream",
     "text": [
      "m v naveen\n"
     ]
    },
    {
     "data": {
      "text/plain": [
       "True"
      ]
     },
     "execution_count": 7,
     "metadata": {},
     "output_type": "execute_result"
    }
   ],
   "source": [
    "import re\n",
    "name=input()\n",
    "def check(m1):\n",
    "    if(re.match('^[a-zA-Z]+[ .]{0,1}[a-zA-Z]+[ ]*[a-zA-Z]+$',m1)):\n",
    "        return True\n",
    "    else:\n",
    "        return False\n",
    "check(name)"
   ]
  },
  {
   "cell_type": "markdown",
   "metadata": {},
   "source": [
    "## write the content from book.txt to notes.txt"
   ]
  },
  {
   "cell_type": "code",
   "execution_count": 10,
   "metadata": {},
   "outputs": [],
   "source": [
    "fh=open('book.txt','r')\n",
    "data=fh.read()\n",
    "fh1=open('notes.txt','w')\n",
    "fh1.write(data)\n",
    "fh.close()\n",
    "fh1.close()"
   ]
  },
  {
   "cell_type": "markdown",
   "metadata": {},
   "source": [
    "## no of line ina file"
   ]
  },
  {
   "cell_type": "code",
   "execution_count": 16,
   "metadata": {},
   "outputs": [
    {
     "name": "stdout",
     "output_type": "stream",
     "text": [
      "4\n"
     ]
    }
   ],
   "source": [
    "count=0\n",
    "fh=open('notes.txt','r')\n",
    "data=fh.read()\n",
    "for d in data:\n",
    "    if(d=='\\n'):\n",
    "        count=count+1\n",
    "fh.close()\n",
    "print(count)"
   ]
  },
  {
   "cell_type": "markdown",
   "metadata": {},
   "source": [
    "## print 3rd line in a file"
   ]
  },
  {
   "cell_type": "code",
   "execution_count": 17,
   "metadata": {},
   "outputs": [
    {
     "name": "stdout",
     "output_type": "stream",
     "text": [
      "line 3\n",
      "\n"
     ]
    }
   ],
   "source": [
    "i=1\n",
    "fh=open('notes.txt','r')\n",
    "for line in fh:\n",
    "    if(i==3):\n",
    "        print(line)\n",
    "        i=i+1\n",
    "    else:\n",
    "        i=i+1\n",
    "fh.close()\n",
    "    "
   ]
  },
  {
   "cell_type": "markdown",
   "metadata": {},
   "source": [
    "## print last letter in 3rd line"
   ]
  },
  {
   "cell_type": "code",
   "execution_count": 18,
   "metadata": {},
   "outputs": [
    {
     "name": "stdout",
     "output_type": "stream",
     "text": [
      "3\n"
     ]
    }
   ],
   "source": [
    "i=1\n",
    "fh=open('notes.txt','r')\n",
    "for line in fh:\n",
    "    if(i==3):\n",
    "        for ch in line:\n",
    "            if(ch=='\\n'):\n",
    "                print(j)\n",
    "            j=ch\n",
    "        i=i+1\n",
    "    else:\n",
    "        \n",
    "        i=i+1\n",
    "fh.close()"
   ]
  },
  {
   "cell_type": "markdown",
   "metadata": {},
   "source": [
    "## create a function to return the data in agiven line number"
   ]
  },
  {
   "cell_type": "code",
   "execution_count": 20,
   "metadata": {},
   "outputs": [
    {
     "name": "stdout",
     "output_type": "stream",
     "text": [
      "3\n",
      "line 3\n",
      "\n"
     ]
    }
   ],
   "source": [
    "def display(n):\n",
    "    f =  open('notes.txt','r')\n",
    "    count=1\n",
    "    flag=0\n",
    "    for line in f:\n",
    "        if count==n:\n",
    "            print(line)\n",
    "            flag=1\n",
    "            break\n",
    "        count=count+1\n",
    "    if(flag==0):\n",
    "        print(\" Please enter valid number ... \")\n",
    "    f.close()\n",
    "    \n",
    "n=int(input())\n",
    "display(n)"
   ]
  },
  {
   "cell_type": "markdown",
   "metadata": {},
   "source": [
    "## no of characters ina file"
   ]
  },
  {
   "cell_type": "code",
   "execution_count": 21,
   "metadata": {},
   "outputs": [
    {
     "name": "stdout",
     "output_type": "stream",
     "text": [
      "16\n"
     ]
    }
   ],
   "source": [
    "def countChar():\n",
    "    f =  open('notes.txt','r')\n",
    "    count=0\n",
    "    for line in f:\n",
    "        for i in line:\n",
    "            if(i.isalpha()):\n",
    "                count=count+1\n",
    "    print(count)\n",
    "    f.close()\n",
    "\n",
    "countChar()"
   ]
  },
  {
   "cell_type": "markdown",
   "metadata": {},
   "source": [
    "## repetation of letter"
   ]
  },
  {
   "cell_type": "code",
   "execution_count": 22,
   "metadata": {},
   "outputs": [
    {
     "name": "stdout",
     "output_type": "stream",
     "text": [
      " Enter a character : l\n",
      "4\n"
     ]
    }
   ],
   "source": [
    "def countChar(ch):\n",
    "    f =  open('notes.txt','r')\n",
    "    count=0\n",
    "    for line in f:\n",
    "        for i in line:\n",
    "            if(i==ch):\n",
    "                count=count+1\n",
    "    print(count)\n",
    "    f.close()\n",
    "\n",
    "ch=input(\" Enter a character : \")\n",
    "countChar(ch)"
   ]
  },
  {
   "cell_type": "markdown",
   "metadata": {},
   "source": [
    "## replace of agiven word"
   ]
  },
  {
   "cell_type": "code",
   "execution_count": 23,
   "metadata": {},
   "outputs": [],
   "source": [
    "def replace1(filename,oldword,newword):\n",
    "    fh=open(filename,'r')\n",
    "    data=fh.read()\n",
    "    data=data.replace(oldword,newword)\n",
    "    fh.close()\n",
    "    fh=open(filename,'w')\n",
    "    fh.write(data)\n",
    "    fh.close()"
   ]
  },
  {
   "cell_type": "code",
   "execution_count": 25,
   "metadata": {},
   "outputs": [],
   "source": [
    "replace1('notes.txt','line','row')"
   ]
  },
  {
   "cell_type": "markdown",
   "metadata": {},
   "source": [
    "## no of characters"
   ]
  },
  {
   "cell_type": "code",
   "execution_count": 26,
   "metadata": {},
   "outputs": [
    {
     "name": "stdout",
     "output_type": "stream",
     "text": [
      "16\n"
     ]
    }
   ],
   "source": [
    "count=0\n",
    "fh=open('notes.txt','r')\n",
    "for line in fh:\n",
    "    for ch in line:\n",
    "        if(ch!=' ' and ch!='\\n'):\n",
    "            count=count+1\n",
    "print(count)\n",
    "fh.close()"
   ]
  },
  {
   "cell_type": "markdown",
   "metadata": {},
   "source": [
    "## remove the line in a file"
   ]
  },
  {
   "cell_type": "code",
   "execution_count": 46,
   "metadata": {},
   "outputs": [],
   "source": [
    "def remove(filename,word):\n",
    "    fh=open(filename,'r+')\n",
    "    count=0\n",
    "    data=fh.read()\n",
    "    for d in data:\n",
    "        if(d=='\\n'):\n",
    "            count=count+1\n",
    "        if(count==line):\n",
    "            d=d.replace('d','')\n",
    "    fh.close()\n",
    "    \n",
    "    \n",
    "\n",
    "    "
   ]
  },
  {
   "cell_type": "code",
   "execution_count": 47,
   "metadata": {},
   "outputs": [],
   "source": [
    "remove('notes.txt',2)"
   ]
  },
  {
   "cell_type": "markdown",
   "metadata": {},
   "source": [
    "# to remove a word in file"
   ]
  },
  {
   "cell_type": "code",
   "execution_count": 37,
   "metadata": {},
   "outputs": [],
   "source": [
    "def replace2(filename,oldword,newword):\n",
    "    fh=open(filename,'r')\n",
    "    data=fh.read()\n",
    "    data=data.replace(oldword,newword)\n",
    "    fh.close()\n",
    "    fh=open(filename,'w')\n",
    "    fh.write(data)\n",
    "    fh.close()"
   ]
  },
  {
   "cell_type": "code",
   "execution_count": 38,
   "metadata": {},
   "outputs": [],
   "source": [
    "replace2('notes.txt','line','')"
   ]
  },
  {
   "cell_type": "code",
   "execution_count": null,
   "metadata": {},
   "outputs": [],
   "source": []
  }
 ],
 "metadata": {
  "kernelspec": {
   "display_name": "Python 3",
   "language": "python",
   "name": "python3"
  },
  "language_info": {
   "codemirror_mode": {
    "name": "ipython",
    "version": 3
   },
   "file_extension": ".py",
   "mimetype": "text/x-python",
   "name": "python",
   "nbconvert_exporter": "python",
   "pygments_lexer": "ipython3",
   "version": "3.7.3"
  }
 },
 "nbformat": 4,
 "nbformat_minor": 2
}
