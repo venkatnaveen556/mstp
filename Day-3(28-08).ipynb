{
 "cells": [
  {
   "cell_type": "markdown",
   "metadata": {},
   "source": [
    "**FUNCTION**"
   ]
  },
  {
   "cell_type": "code",
   "execution_count": 1,
   "metadata": {},
   "outputs": [
    {
     "data": {
      "text/plain": [
       "6"
      ]
     },
     "execution_count": 1,
     "metadata": {},
     "output_type": "execute_result"
    }
   ],
   "source": [
    "def mul(a,b):\n",
    "    c=a*b\n",
    "    return c\n",
    "mul(2,3)"
   ]
  },
  {
   "cell_type": "markdown",
   "metadata": {},
   "source": [
    "**FACTORIAL**"
   ]
  },
  {
   "cell_type": "code",
   "execution_count": 6,
   "metadata": {},
   "outputs": [
    {
     "data": {
      "text/plain": [
       "120"
      ]
     },
     "execution_count": 6,
     "metadata": {},
     "output_type": "execute_result"
    }
   ],
   "source": [
    "def fact(a):\n",
    "    f=1\n",
    "    for i in range(a,1,-1):\n",
    "        f=f*i\n",
    "    return f\n",
    "fact(5)"
   ]
  },
  {
   "cell_type": "code",
   "execution_count": 1,
   "metadata": {},
   "outputs": [
    {
     "name": "stdout",
     "output_type": "stream",
     "text": [
      " Number : 45\n",
      "45\n",
      " Number : 42\n"
     ]
    }
   ],
   "source": [
    "while(True):\n",
    "    n=int(input(\" Number : \"))\n",
    "    if(n>=0 and n<=99 and n!=42):\n",
    "        print(n)\n",
    "    else:\n",
    "        break"
   ]
  },
  {
   "cell_type": "code",
   "execution_count": 3,
   "metadata": {},
   "outputs": [
    {
     "name": "stdout",
     "output_type": "stream",
     "text": [
      " No of trails : 1\n",
      " Width and Height : 231 132\n",
      " Upload Another \n"
     ]
    }
   ],
   "source": [
    "n=int(input(\" No of trails : \"))\n",
    "len=180\n",
    "l=[]\n",
    "for i in range(n):\n",
    "    inp=input(\" Width and Height : \")\n",
    "    l=inp.split()\n",
    "    a=int(l[0])\n",
    "    b=int(l[1])\n",
    "    if(a>len and b>len and a!=b):\n",
    "        print(\" Crop it \")\n",
    "    elif(a<len or b<len):\n",
    "        print(\" Upload Another \")\n",
    "    elif((a==b and b==len) or (a>len and b>len and a==b)):\n",
    "        print(\" Accepted \")"
   ]
  },
  {
   "cell_type": "code",
   "execution_count": null,
   "metadata": {},
   "outputs": [],
   "source": [
    "\n",
    "n=input(\" Enter String : \")\n",
    "l=0\n",
    "r=0\n",
    "i=0\n",
    "leng=len(n)\n",
    "for i in range(leng):\n",
    "    a=n[i]\n",
    "    if(a=='L' or a=='l'):\n",
    "        l=l-1\n",
    "    elif(a=='R' or a=='r'):\n",
    "        l=l+1\n",
    "    elif(a=='T' or a=='t'):\n",
    "        r=r+1\n",
    "    elif(a=='D' or a=='d'):\n",
    "        r=r-1\n",
    "print(l,\"   \",r);"
   ]
  }
 ],
 "metadata": {
  "kernelspec": {
   "display_name": "Python 3",
   "language": "python",
   "name": "python3"
  },
  "language_info": {
   "codemirror_mode": {
    "name": "ipython",
    "version": 3
   },
   "file_extension": ".py",
   "mimetype": "text/x-python",
   "name": "python",
   "nbconvert_exporter": "python",
   "pygments_lexer": "ipython3",
   "version": "3.7.3"
  }
 },
 "nbformat": 4,
 "nbformat_minor": 2
}
