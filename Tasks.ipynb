{
 "cells": [
  {
   "cell_type": "code",
   "execution_count": null,
   "metadata": {},
   "outputs": [],
   "source": [
    "**Factorial of a number**"
   ]
  },
  {
   "cell_type": "code",
   "execution_count": 1,
   "metadata": {},
   "outputs": [
    {
     "name": "stdout",
     "output_type": "stream",
     "text": [
      "10\n",
      "3628800\n"
     ]
    }
   ],
   "source": [
    "a=int(input())\n",
    "mul=1\n",
    "for i in range(1,(a+1)):\n",
    "    mul=i*mul\n",
    "print(mul)"
   ]
  },
  {
   "cell_type": "markdown",
   "metadata": {},
   "source": [
    "**Prime Numbers up to N**"
   ]
  },
  {
   "cell_type": "code",
   "execution_count": 16,
   "metadata": {},
   "outputs": [
    {
     "name": "stdout",
     "output_type": "stream",
     "text": [
      "15\n",
      "2\n",
      "3\n",
      "5\n",
      "7\n",
      "11\n",
      "13\n"
     ]
    }
   ],
   "source": [
    "n=int(input())\n",
    "for i in range(1,n+1):\n",
    "    if i>1:\n",
    "        for j in range(2,i):\n",
    "            if(i%j)==0:\n",
    "                break\n",
    "        else:\n",
    "            print(i)"
   ]
  },
  {
   "cell_type": "markdown",
   "metadata": {},
   "source": [
    "**check if the number exist in a given range(input:number(n),range(lower number and upper n umber)**"
   ]
  },
  {
   "cell_type": "code",
   "execution_count": 4,
   "metadata": {},
   "outputs": [
    {
     "name": "stdout",
     "output_type": "stream",
     "text": [
      "10\n",
      "20\n",
      "89\n",
      "No not in range\n"
     ]
    }
   ],
   "source": [
    "l=int(input())\n",
    "h=int(input())\n",
    "n=int(input())\n",
    "if(n in range(l,h+1)):\n",
    "    print(\"Yes in range\")\n",
    "else:\n",
    "    print(\"No not in range\")"
   ]
  },
  {
   "cell_type": "markdown",
   "metadata": {},
   "source": [
    "**Check the number of digits in a given number**"
   ]
  },
  {
   "cell_type": "code",
   "execution_count": 5,
   "metadata": {},
   "outputs": [
    {
     "name": "stdout",
     "output_type": "stream",
     "text": [
      "123456002589\n",
      "12\n"
     ]
    }
   ],
   "source": [
    "num=input()\n",
    "print(len(num))"
   ]
  },
  {
   "cell_type": "markdown",
   "metadata": {},
   "source": [
    "**check if the give number is a factor of 1000**"
   ]
  },
  {
   "cell_type": "code",
   "execution_count": 6,
   "metadata": {},
   "outputs": [
    {
     "name": "stdout",
     "output_type": "stream",
     "text": [
      "300\n",
      "300 is not factor\n"
     ]
    }
   ],
   "source": [
    "n=int(input())\n",
    "if 1000%n ==0:\n",
    "    print(n,\"is factor\")\n",
    "else:\n",
    "    print(n,\"is not factor\")"
   ]
  },
  {
   "cell_type": "markdown",
   "metadata": {},
   "source": [
    "***27-08-2019***"
   ]
  },
  {
   "cell_type": "markdown",
   "metadata": {},
   "source": [
    "**Calculate the square root og given number**"
   ]
  },
  {
   "cell_type": "code",
   "execution_count": 12,
   "metadata": {},
   "outputs": [
    {
     "name": "stdout",
     "output_type": "stream",
     "text": [
      "456\n",
      "Square root of given number without using inbuilt function: 21.354156504062622\n",
      "Square root of given number using inbuit function: 21.354156504062622\n"
     ]
    }
   ],
   "source": [
    "import math\n",
    "a=int(input())\n",
    "print(\"Square root of given number without using inbuilt function:\",a**(0.5))\n",
    "print(\"Square root of given number using inbuit function:\",math.sqrt(a))"
   ]
  },
  {
   "cell_type": "markdown",
   "metadata": {},
   "source": [
    "**print count of numbers and average of the given numbers taken by the user in a single line**"
   ]
  },
  {
   "cell_type": "code",
   "execution_count": 13,
   "metadata": {},
   "outputs": [
    {
     "name": "stdout",
     "output_type": "stream",
     "text": [
      "10 20 30\n",
      "3\n",
      "Sum: 60\n",
      "Number of number: 3\n",
      "Average: 20.0\n"
     ]
    }
   ],
   "source": [
    "a=input().split()\n",
    "sum=0\n",
    "count=0\n",
    "print(len(a))\n",
    "for i in a:\n",
    "    sum=sum+int(i)\n",
    "    count+=1\n",
    "print(\"Sum:\",sum)\n",
    "print(\"Number of number:\",count)\n",
    "print(\"Average:\",(sum/count))"
   ]
  },
  {
   "cell_type": "markdown",
   "metadata": {},
   "source": [
    "**String Palindrome**"
   ]
  },
  {
   "cell_type": "code",
   "execution_count": 15,
   "metadata": {},
   "outputs": [
    {
     "name": "stdout",
     "output_type": "stream",
     "text": [
      "mam\n",
      "yes\n"
     ]
    }
   ],
   "source": [
    "a=input()\n",
    "b=a[::-1]\n",
    "if(a==b):\n",
    "    print(\"yes\")\n",
    "else:\n",
    "    print(\"No\")"
   ]
  },
  {
   "cell_type": "markdown",
   "metadata": {},
   "source": [
    "**Count Division: You have been given 3 integers-l,r and k. Find how many numbers between l and r are divisible by k**"
   ]
  },
  {
   "cell_type": "code",
   "execution_count": 18,
   "metadata": {},
   "outputs": [
    {
     "name": "stdout",
     "output_type": "stream",
     "text": [
      "10\n",
      "20\n",
      "11\n",
      "11\n"
     ]
    }
   ],
   "source": [
    "l=int(input())\n",
    "r=int(input())\n",
    "k=int(input())\n",
    "for i in range(l,r+1):\n",
    "    if i%k==0:\n",
    "        print(i)\n"
   ]
  },
  {
   "cell_type": "markdown",
   "metadata": {},
   "source": [
    "**ISBN: The book has a special ISBN(International Standard Book Number) which is  unique numeric book identifier only for Voldemort's book printed on it. The ISBN is based upon a 10-digit code. The ISBN is valid if:\n",
    "1xdigit1 + 2xdigit2 + 3xdigit3 + 4xdigit4 + 5xdigit5 + 6xdigit6 + 7xdigit7 + 8xdigit8 + 9xdigit9 + 10xdigit10 is divisible by 11.**"
   ]
  },
  {
   "cell_type": "code",
   "execution_count": 2,
   "metadata": {},
   "outputs": [
    {
     "name": "stdout",
     "output_type": "stream",
     "text": [
      "1401601499\n",
      "253\n",
      "Valid\n"
     ]
    }
   ],
   "source": [
    "a=int(input())\n",
    "#1401601499,102356412345\n",
    "sum=0\n",
    "i=10\n",
    "while a:\n",
    "    sum=sum+(a%10)*i\n",
    "    a=a//10\n",
    "    i-=1\n",
    "print(sum)\n",
    "if(sum%11==0):\n",
    "    print(\"Valid\")\n",
    "else:\n",
    "    print(\"Not Valid\")\n"
   ]
  },
  {
   "cell_type": "markdown",
   "metadata": {},
   "source": [
    "**Toggle String**"
   ]
  },
  {
   "cell_type": "code",
   "execution_count": 4,
   "metadata": {},
   "outputs": [
    {
     "name": "stdout",
     "output_type": "stream",
     "text": [
      "PooJaHoneyTumu123\n",
      "PooJaHoneyTumu123\n",
      "Toggle String: pOOjAhONEYtUMU123\n"
     ]
    }
   ],
   "source": [
    "s=input()\n",
    "print(s)\n",
    "print(\"Toggle String:\",s.swapcase())"
   ]
  },
  {
   "cell_type": "markdown",
   "metadata": {},
   "source": [
    "**Identical Strings**"
   ]
  },
  {
   "cell_type": "code",
   "execution_count": 7,
   "metadata": {},
   "outputs": [
    {
     "name": "stdout",
     "output_type": "stream",
     "text": [
      "pooja\n",
      "pooja\n",
      "Identical\n"
     ]
    }
   ],
   "source": [
    "a=input()\n",
    "b=input()\n",
    "if a==b:\n",
    "    print(\"Identical\")\n",
    "else:\n",
    "    print(\"Not Identical\")"
   ]
  },
  {
   "cell_type": "markdown",
   "metadata": {},
   "source": [
    "**Char Sum: here first character a has weight 1 and the second charecter b has 2 and third character again has wight of 1. So the summation here is equal to :(aba)1+2+1=4(strings)**"
   ]
  },
  {
   "cell_type": "code",
   "execution_count": 15,
   "metadata": {},
   "outputs": [
    {
     "name": "stdout",
     "output_type": "stream",
     "text": [
      "pooja\n",
      "57\n"
     ]
    }
   ],
   "source": [
    "a=input()\n",
    "sum=0\n",
    "n=len(a)\n",
    "for i in range(n):\n",
    "    v=ord(a[i])-ord('a')+1\n",
    "    sum=sum+v\n",
    "print(sum)"
   ]
  },
  {
   "cell_type": "markdown",
   "metadata": {},
   "source": [
    "**E-Maze in:x and y axises need to take input like LLRDDR(strings)**"
   ]
  },
  {
   "cell_type": "code",
   "execution_count": 23,
   "metadata": {},
   "outputs": [
    {
     "name": "stdout",
     "output_type": "stream",
     "text": [
      "Enter input like LLRDDR:LLRDDR\n",
      "-1 0\n",
      "-2 0\n",
      "-1 0\n",
      "-1 -1\n",
      "-1 -2\n",
      "0 -2\n"
     ]
    }
   ],
   "source": [
    "a=input(\"Enter input like LLRDDR:\")\n",
    "x,y=0,0\n",
    "for i in a:\n",
    "    if(i=='L'):\n",
    "        x-=1\n",
    "        y=y\n",
    "    elif(i=='R'):\n",
    "        x+=1\n",
    "        y=y\n",
    "    elif(i=='D'):\n",
    "        x=x\n",
    "        y-=1\n",
    "    elif(i=='U'):\n",
    "        x=x\n",
    "        y+=1\n",
    "    print(x,y)"
   ]
  },
  {
   "cell_type": "markdown",
   "metadata": {},
   "source": [
    "**Given String:\"Problem Solving Using Python\"\n",
    "1.Find length of string\n",
    "2.Change the string to lowercase\n",
    "3.Print the string in reverse order\n",
    "4.Find how many times\"s\" is repeated in agiven string**"
   ]
  },
  {
   "cell_type": "code",
   "execution_count": 27,
   "metadata": {},
   "outputs": [
    {
     "name": "stdout",
     "output_type": "stream",
     "text": [
      "Length of given string: 28\n",
      "Lower case: problem solving using python\n",
      "Reverse Order: nohtyP gnisU gnivloS melborP\n",
      "Number of times s repeated: 1\n"
     ]
    }
   ],
   "source": [
    "a=\"Problem Solving Using Python\"\n",
    "print(\"Length of given string:\",len(a))\n",
    "print(\"Lower case:\",a.lower())\n",
    "print(\"Reverse Order:\",a[::-1])\n",
    "print(\"Number of times s repeated:\",a.count(\"s\"))"
   ]
  },
  {
   "cell_type": "markdown",
   "metadata": {},
   "source": [
    "** 3 + 1--input\n",
    "   4  -- output\n",
    "   4*2 -- input\n",
    "   8  --  output**"
   ]
  },
  {
   "cell_type": "code",
   "execution_count": 9,
   "metadata": {},
   "outputs": [
    {
     "name": "stdout",
     "output_type": "stream",
     "text": [
      "enter the integer61 + 21\n",
      "['61', '+', '21']\n",
      "82\n"
     ]
    }
   ],
   "source": [
    "num=(input(\"enter the integer\"))\n",
    "num=num.split()\n",
    "print(num)\n",
    "if num[1]=='+':\n",
    "    print(int(num[0])+int(num[2]))\n",
    "elif num[1]=='-':\n",
    "    print(int(num[0])-int(num[2]))\n",
    "elif num[1]=='*':\n",
    "    print(int(num[0])*int(num[2]))\n",
    "elif num[1]=='/':\n",
    "    print(int(num[0])//int(num[2]))\n",
    "elif num[1]=='%':\n",
    "    print(int(num[0])%int(num[2]))\n",
    "    "
   ]
  },
  {
   "cell_type": "markdown",
   "metadata": {},
   "source": [
    "**Life,the universe and everything:user has to enter the input numbers as many as he/she  want .Our task is to write the program to print the input numbers as output Stop printing the input after reading  the input as 42. All numbers at input are integers of one or two digits.\n",
    "**"
   ]
  },
  {
   "cell_type": "code",
   "execution_count": 19,
   "metadata": {},
   "outputs": [
    {
     "name": "stdout",
     "output_type": "stream",
     "text": [
      "enter a number1\n",
      "1\n",
      "enter a number2\n",
      "2\n",
      "enter a number3\n",
      "3\n",
      "enter a number99\n",
      "99\n",
      "enter a number42\n",
      "42\n"
     ]
    }
   ],
   "source": [
    "a=0\n",
    "while(a!=42 and a<=99):\n",
    "    a=int(input(\"enter a number\"))\n",
    "    print(a)"
   ]
  },
  {
   "cell_type": "markdown",
   "metadata": {},
   "source": [
    "**best logical if statement**"
   ]
  },
  {
   "cell_type": "code",
   "execution_count": 28,
   "metadata": {},
   "outputs": [
    {
     "name": "stdout",
     "output_type": "stream",
     "text": [
      "enter the integer180 210\n",
      "['180', '210']\n",
      "UPLOAD ANOTHER\n"
     ]
    }
   ],
   "source": [
    "l=180\n",
    "num=(input(\"enter the integer\"))\n",
    "num=num.split()\n",
    "print(num)\n",
    "if(l==int(num[0])==int(num[1])):\n",
    "    print(\"accepted\")\n",
    "elif(l<int(num[0]) and l<int(num[1])):\n",
    "    print(\"crop it\")\n",
    "elif(l<int(num[0]) or l<int(num[1])):\n",
    "    print(\"UPLOAD ANOTHER\")\n",
    "elif(l>int(num[0]) or l>int(num[1])):\n",
    "    print(\"UPLOAD ANOTHER\")"
   ]
  },
  {
   "cell_type": "code",
   "execution_count": null,
   "metadata": {},
   "outputs": [],
   "source": []
  },
  {
   "cell_type": "code",
   "execution_count": null,
   "metadata": {},
   "outputs": [],
   "source": []
  }
 ],
 "metadata": {
  "kernelspec": {
   "display_name": "Python 3",
   "language": "python",
   "name": "python3"
  },
  "language_info": {
   "codemirror_mode": {
    "name": "ipython",
    "version": 3
   },
   "file_extension": ".py",
   "mimetype": "text/x-python",
   "name": "python",
   "nbconvert_exporter": "python",
   "pygments_lexer": "ipython3",
   "version": "3.7.3"
  }
 },
 "nbformat": 4,
 "nbformat_minor": 2
}
